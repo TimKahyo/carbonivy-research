{
 "cells": [
  {
   "cell_type": "code",
   "execution_count": null,
   "metadata": {},
   "outputs": [],
   "source": [
    "#pip install basemap"
   ]
  },
  {
   "cell_type": "code",
   "execution_count": 4,
   "metadata": {},
   "outputs": [],
   "source": [
    "%matplotlib inline\n",
    "from enum import Enum\n",
    "import imageio\n",
    "from IPython.display import HTML\n",
    "from itertools import chain\n",
    "import math\n",
    "import matplotlib.pyplot as plt\n",
    "from mpl_toolkits.basemap import Basemap\n",
    "import numpy as np\n",
    "import os\n",
    "import pandas as pd\n",
    "from PIL import Image\n",
    "from random import *\n",
    "from sklearn.cluster import KMeans\n",
    "from statistics import mean"
   ]
  },
  {
   "cell_type": "code",
   "execution_count": null,
   "metadata": {},
   "outputs": [],
   "source": [
    "def draw_map(m, scale=1.5):\n",
    "    # draw a shaded-relief image\n",
    "    m.shadedrelief(scale=scale)\n",
    "    \n",
    "    #latitudes and longitudes are returned as a dictionary\n",
    "    lats = m.drawparallels(np.linspace(-90, 90, 13))\n",
    "    lons = m.drawmeridians(np.linspace(-180, 180, 13))\n",
    "    \n",
    "    #keys contain the plt.Line2D instances\n",
    "    lat_lines = chain(*(tup[1][0] for tup in lats.items()))\n",
    "    lon_lines = chain(*(tup[1][0] for tup in lons.items()))\n",
    "    all_lines = chain(lat_lines, lon_lines)\n",
    "    \n",
    "    # cycle through these lines and set the desired style\n",
    "    for line in all_lines:\n",
    "        line.set(linestyle='-', alpha=0.3, color='w')"
   ]
  },
  {
   "cell_type": "code",
   "execution_count": null,
   "metadata": {},
   "outputs": [],
   "source": [
    "data=pd.read_csv('../input/glodapv2-ocean-data/GLODAPv2 Merged Master File.csv')\n",
    "data"
   ]
  },
  {
   "cell_type": "code",
   "execution_count": null,
   "metadata": {},
   "outputs": [],
   "source": [
    "z_list=list(data[\"phtsinsitutp\"])\n",
    "zeta = list(data[\"tco2\"])\n",
    "x_lis=list(data[\"longitude\"])\n",
    "y_lis=list(data[\"latitude\"])\n",
    "input_data={'phtsinsituetp':z_list,'tco2':zeta,'longitude':x_lis,'latitude':y_lis}"
   ]
  },
  {
   "cell_type": "code",
   "execution_count": null,
   "metadata": {},
   "outputs": [],
   "source": [
    "data=''\n",
    "for i in range(0,15259):\n",
    "    data += str(str(input_data['longitude'][i])+\" \"+str(input_data['latitude'][i])+\"; \")\n",
    "unused=np.array(np.mat(data[:-2]))\n",
    "tco2 = np.array(input_data['tco2'])"
   ]
  },
  {
   "cell_type": "code",
   "execution_count": null,
   "metadata": {},
   "outputs": [],
   "source": [
    "model = KMeans(n_clusters=381)\n",
    "model.fit(unused)"
   ]
  },
  {
   "cell_type": "code",
   "execution_count": null,
   "metadata": {},
   "outputs": [],
   "source": [
    "model.cluster_centers_"
   ]
  },
  {
   "cell_type": "code",
   "execution_count": null,
   "metadata": {},
   "outputs": [],
   "source": [
    "label=np.array(model.labels_)"
   ]
  },
  {
   "cell_type": "code",
   "execution_count": null,
   "metadata": {},
   "outputs": [],
   "source": [
    "sse = []\n",
    "for K in range(100, 1000, 100):\n",
    "    model = KMeans(n_clusters=K)\n",
    "    model.fit(unused)\n",
    "    sse.append(model.inertia_)"
   ]
  },
  {
   "cell_type": "code",
   "execution_count": null,
   "metadata": {},
   "outputs": [],
   "source": [
    "plt.plot(range(100, 1000, 100), sse)"
   ]
  },
  {
   "cell_type": "code",
   "execution_count": null,
   "metadata": {},
   "outputs": [],
   "source": [
    "fig = plt.figure(figsize=(8, 6), edgecolor='w')\n",
    "m = Basemap(projection='moll', lon_0=0, lat_0=0)\n",
    "u_labels = np.unique(label)\n",
    "m.drawmapboundary(fill_color='#76a6cc')\n",
    "m.fillcontinents(color='white',lake_color='#76a6cc')\n",
    "m.drawcoastlines()\n",
    "\n",
    "#plotting the results:\n",
    "for i in u_labels:\n",
    "    x, y = m(unused[label == i , 0] , unused[label == i , 1])\n",
    "    m.scatter(x, y , label = i)\n",
    "plt.show()"
   ]
  },
  {
   "cell_type": "code",
   "execution_count": null,
   "metadata": {},
   "outputs": [],
   "source": [
    "set = randint(0,381)"
   ]
  },
  {
   "cell_type": "code",
   "execution_count": null,
   "metadata": {},
   "outputs": [],
   "source": [
    "fig = plt.figure(figsize=(8, 6), edgecolor='w')\n",
    "m = Basemap(projection='moll', lon_0=0, lat_0=0)\n",
    "m.drawmapboundary(fill_color='#76a6cc')\n",
    "m.fillcontinents(color='white',lake_color='#76a6cc')\n",
    "m.drawcoastlines()\n",
    "x, y = m(unused[label==set, 0], unused[label==set, 1])\n",
    "m.scatter(x, y, marker='o', color=\"r\")\n",
    "\n",
    "\n",
    "plt.savefig('plot.png')\n",
    "plt.show()"
   ]
  },
  {
   "cell_type": "code",
   "execution_count": null,
   "metadata": {},
   "outputs": [],
   "source": [
    "show_animation = True"
   ]
  },
  {
   "cell_type": "code",
   "execution_count": null,
   "metadata": {},
   "outputs": [],
   "source": [
    "class RobotType(Enum):\n",
    "    circle = 0\n",
    "    rectangle = 1"
   ]
  },
  {
   "cell_type": "code",
   "execution_count": null,
   "metadata": {},
   "outputs": [],
   "source": [
    "class Config:\n",
    "\n",
    "\n",
    "    def __init__(self):\n",
    "        # robot parameter\n",
    "        self.max_speed = 2.0 # [m/s]\n",
    "        self.min_speed = -2.0  # [m/s]\n",
    "        self.max_yaw_rate = 40.0 * math.pi / 180.0  # [rad/s]\n",
    "        self.max_accel = 0.2  # [m/ss]\n",
    "        self.max_delta_yaw_rate = 40.0 * math.pi / 180.0  # [rad/ss]\n",
    "        self.v_resolution = 0.01  # [m/s]\n",
    "        self.yaw_rate_resolution = 0.1 * math.pi / 180.0  # [rad/s]\n",
    "        self.dt = 0.1  # [s] Time tick for motion prediction\n",
    "        self.predict_time = 3.0  # [s]\n",
    "        self.to_goal_cost_gain = 0.15\n",
    "        self.speed_cost_gain = 1.0\n",
    "        self.obstacle_cost_gain = 1.0\n",
    "        self.robot_stuck_flag_cons = 0.05  # constant to prevent the robot from getting stuck\n",
    "        self.robot_type = RobotType.circle\n",
    "\n",
    "        # if robot_type == RobotType.circle\n",
    "        # Also used to check if goal is reached in both types\n",
    "        self.robot_radius = 10.0  # [m] for collision check\n",
    "\n",
    "        # if robot_type == RobotType.rectangle\n",
    "        self.robot_width = 0.5  # [m] for collision check\n",
    "        self.robot_length = 1.2  # [m] for collision check\n",
    "        # obstacles [x(m) y(m), ....]\n",
    "        self.ob = np.column_stack((np.random.randint(-180,high=180, size=50), np.random.randint(-90,high=90, size=50)))\n",
    "\n",
    "\n",
    "    @property\n",
    "    def robot_type(self):\n",
    "        return self._robot_type\n",
    "\n",
    "    @robot_type.setter\n",
    "    def robot_type(self, value):\n",
    "        if not isinstance(value, RobotType):\n",
    "            raise TypeError(\"robot_type must be an instance of RobotType\")\n",
    "        self._robot_type = value\n",
    "\n",
    "\n",
    "config = Config()"
   ]
  },
  {
   "cell_type": "code",
   "execution_count": null,
   "metadata": {},
   "outputs": [],
   "source": [
    "def dwa_control(x, config, goal, ob):\n",
    "\n",
    "    dw = calc_dynamic_window(x, config)\n",
    "\n",
    "    u, trajectory = calc_control_and_trajectory(x, dw, config, goal, ob)\n",
    "\n",
    "    return u, trajectory"
   ]
  },
  {
   "cell_type": "code",
   "execution_count": null,
   "metadata": {},
   "outputs": [],
   "source": [
    "def motion(x, u, dt):\n",
    "\n",
    "\n",
    "    x[2] += u[1] * dt\n",
    "    x[0] += u[0] * math.cos(x[2]) * dt\n",
    "    x[1] += u[0] * math.sin(x[2]) * dt\n",
    "    x[3] = u[0]\n",
    "    x[4] = u[1]\n",
    "\n",
    "    return x"
   ]
  },
  {
   "cell_type": "code",
   "execution_count": null,
   "metadata": {},
   "outputs": [],
   "source": [
    "def calc_dynamic_window(x, config):\n",
    "\n",
    "\n",
    "    # Dynamic window from robot specification\n",
    "    Vs = [config.min_speed, config.max_speed,\n",
    "          -config.max_yaw_rate, config.max_yaw_rate]\n",
    "\n",
    "    # Dynamic window from motion model\n",
    "    Vd = [x[3] - config.max_accel * config.dt,\n",
    "          x[3] + config.max_accel * config.dt,\n",
    "          x[4] - config.max_delta_yaw_rate * config.dt,\n",
    "          x[4] + config.max_delta_yaw_rate * config.dt]\n",
    "\n",
    "    #  [v_min, v_max, yaw_rate_min, yaw_rate_max]\n",
    "    dw = [max(Vs[0], Vd[0]), min(Vs[1], Vd[1]),\n",
    "          max(Vs[2], Vd[2]), min(Vs[3], Vd[3])]\n",
    "\n",
    "    return dw"
   ]
  },
  {
   "cell_type": "code",
   "execution_count": null,
   "metadata": {},
   "outputs": [],
   "source": [
    "def predict_trajectory(x_init, v, y, config):\n",
    "\n",
    "\n",
    "    x = np.array(x_init)\n",
    "    trajectory = np.array(x)\n",
    "    time = 0\n",
    "    while time <= config.predict_time:\n",
    "        x = motion(x, [v, y], config.dt)\n",
    "        trajectory = np.vstack((trajectory, x))\n",
    "        time += config.dt\n",
    "\n",
    "    return trajectory"
   ]
  },
  {
   "cell_type": "code",
   "execution_count": null,
   "metadata": {},
   "outputs": [],
   "source": [
    "def calc_control_and_trajectory(x, dw, config, goal, ob):\n",
    "    x_init = x[:]\n",
    "    min_cost = float(\"inf\")\n",
    "    best_u = [0.0, 0.0]\n",
    "    best_trajectory = np.array([x])\n",
    "\n",
    "    # evaluate all trajectory with sampled input in dynamic window\n",
    "    for v in np.arange(dw[0], dw[1], config.v_resolution):\n",
    "        for y in np.arange(dw[2], dw[3], config.yaw_rate_resolution):\n",
    "\n",
    "            trajectory = predict_trajectory(x_init, v, y, config)\n",
    "            # calc cost\n",
    "            to_goal_cost = config.to_goal_cost_gain * calc_to_goal_cost(trajectory, goal)\n",
    "            speed_cost = config.speed_cost_gain * (config.max_speed - trajectory[-1, 3])\n",
    "            ob_cost = config.obstacle_cost_gain * calc_obstacle_cost(trajectory, ob, config)\n",
    "\n",
    "            final_cost = to_goal_cost + speed_cost + ob_cost\n",
    "\n",
    "            # search minimum trajectory\n",
    "            if min_cost >= final_cost:\n",
    "                min_cost = final_cost\n",
    "                best_u = [v, y]\n",
    "                best_trajectory = trajectory\n",
    "                if abs(best_u[0]) < config.robot_stuck_flag_cons \\\n",
    "                        and abs(x[3]) < config.robot_stuck_flag_cons:\n",
    "                    # to ensure the robot do not get stuck in\n",
    "                    # best v=0 m/s (in front of an obstacle) and\n",
    "                    # best omega=0 rad/s (heading to the goal with\n",
    "                    # angle difference of 0)\n",
    "                    best_u[1] = -config.max_delta_yaw_rate\n",
    "    return best_u, best_trajectory"
   ]
  },
  {
   "cell_type": "code",
   "execution_count": null,
   "metadata": {},
   "outputs": [],
   "source": [
    "def calc_obstacle_cost(trajectory, ob, config):\n",
    "\n",
    "    ox = ob[:, 0]\n",
    "    oy = ob[:, 1]\n",
    "    dx = trajectory[:, 0] - ox[:, None]\n",
    "    dy = trajectory[:, 1] - oy[:, None]\n",
    "    r = np.hypot(dx, dy)\n",
    "\n",
    "    if config.robot_type == RobotType.rectangle:\n",
    "        yaw = trajectory[:, 2]\n",
    "        rot = np.array([[np.cos(yaw), -np.sin(yaw)], [np.sin(yaw), np.cos(yaw)]])\n",
    "        rot = np.transpose(rot, [2, 0, 1])\n",
    "        local_ob = ob[:, None] - trajectory[:, 0:2]\n",
    "        local_ob = local_ob.reshape(-1, local_ob.shape[-1])\n",
    "        local_ob = np.array([local_ob @ x for x in rot])\n",
    "        local_ob = local_ob.reshape(-1, local_ob.shape[-1])\n",
    "        upper_check = local_ob[:, 0] <= config.robot_length / 2\n",
    "        right_check = local_ob[:, 1] <= config.robot_width / 2\n",
    "        bottom_check = local_ob[:, 0] >= -config.robot_length / 2\n",
    "        left_check = local_ob[:, 1] >= -config.robot_width / 2\n",
    "        if (np.logical_and(np.logical_and(upper_check, right_check),\n",
    "                           np.logical_and(bottom_check, left_check))).any():\n",
    "            return float(\"Inf\")\n",
    "    elif config.robot_type == RobotType.circle:\n",
    "        if np.array(r <= config.robot_radius).any():\n",
    "            return float(\"Inf\")\n",
    "\n",
    "    min_r = np.min(r)\n",
    "    return 1.0 / min_r  # OK"
   ]
  },
  {
   "cell_type": "code",
   "execution_count": null,
   "metadata": {},
   "outputs": [],
   "source": [
    "def calc_to_goal_cost(trajectory, goal):\n",
    "\n",
    "    dx = goal[0] - trajectory[-1, 0]\n",
    "    dy = goal[1] - trajectory[-1, 1]\n",
    "    error_angle = math.atan2(dy, dx)\n",
    "    cost_angle = error_angle - trajectory[-1, 2]\n",
    "    cost = abs(math.atan2(math.sin(cost_angle), math.cos(cost_angle)))\n",
    "\n",
    "    return cost"
   ]
  },
  {
   "cell_type": "code",
   "execution_count": null,
   "metadata": {},
   "outputs": [],
   "source": [
    "def plot_robot(x, y, yaw, config):  # pragma: no cover\n",
    "    if config.robot_type == RobotType.rectangle:\n",
    "        outline = np.array([[-config.robot_length / 2, config.robot_length / 2,\n",
    "                             (config.robot_length / 2), -config.robot_length / 2,\n",
    "                             -config.robot_length / 2],\n",
    "                            [config.robot_width / 2, config.robot_width / 2,\n",
    "                             - config.robot_width / 2, -config.robot_width / 2,\n",
    "                             config.robot_width / 2]])\n",
    "        Rot1 = np.array([[math.cos(yaw), math.sin(yaw)],\n",
    "                         [-math.sin(yaw), math.cos(yaw)]])\n",
    "        outline = (outline.T.dot(Rot1)).T\n",
    "        outline[0, :] += x\n",
    "        outline[1, :] += y\n",
    "        plt.plot(np.array(outline[0, :]).flatten(),\n",
    "                 np.array(outline[1, :]).flatten(), \"-k\")\n",
    "    elif config.robot_type == RobotType.circle:\n",
    "        circle = plt.Circle((x, y), config.robot_radius, color=\"b\")\n",
    "        plt.gcf().gca().add_artist(circle)\n",
    "        out_x, out_y = (np.array([x, y]) +\n",
    "                        np.array([np.cos(yaw), np.sin(yaw)]) * config.robot_radius)\n",
    "        plt.plot([x, out_x], [y, out_y], marker=\"_\",color=\"g\")"
   ]
  },
  {
   "cell_type": "code",
   "execution_count": null,
   "metadata": {},
   "outputs": [],
   "source": [
    "def plot_arrow(x, y, yaw, length=5, width=1):  # pragma: no cover\n",
    "    plt.arrow(x, y, length * math.cos(yaw), length * math.sin(yaw),\n",
    "              head_length=width, head_width=width)\n",
    "    plt.plot(x, y)"
   ]
  },
  {
   "cell_type": "code",
   "execution_count": null,
   "metadata": {},
   "outputs": [],
   "source": [
    "def predict_PHB_yield(tco2):\n",
    "    return (tco2*2.15225*10**11)/1461000"
   ]
  },
  {
   "cell_type": "code",
   "execution_count": null,
   "metadata": {},
   "outputs": [],
   "source": [
    "directory = \"Pictures\"\n",
    "parent_dir='/carbonivy/working/'\n",
    "path = os.path.join(parent_dir, directory)\n",
    "os.mkdir(path)\n",
    "names=[]"
   ]
  },
  {
   "cell_type": "code",
   "execution_count": null,
   "metadata": {},
   "outputs": [],
   "source": [
    "def main(initial, goal_x, goal_y, n_pts, robot_type=RobotType.circle):\n",
    "    print(\" start!!\")\n",
    "    PHB_yield=0\n",
    "    num=0\n",
    "    \n",
    "    for i in range(n_pts):\n",
    "        # initial state [x(m), y(m), yaw(rad), v(m/s), omega(rad/s)]\n",
    "        x = np.array([initial[0], initial[1], math.pi / 12.0, 0.0, 0.0])\n",
    "        # goal position [x(m), y(m)]\n",
    "        goal = np.array([goal_x[i], goal_y[i]])\n",
    "\n",
    "        # input [forward speed, yaw_rate]\n",
    "\n",
    "        config.robot_type = robot_type\n",
    "        trajectory = np.array(x)\n",
    "        ob = config.ob\n",
    "        while True:\n",
    "            u, predicted_trajectory = dwa_control(x, config, goal, ob)\n",
    "            x = motion(x, u, config.dt)  # simulate robot\n",
    "            final_trajectory = np.vstack((trajectory, x))  # store state history\n",
    "            #previous = np.vstack(initial)\n",
    "           \n",
    "\n",
    "            \n",
    "            if show_animation:\n",
    "                plt.plot(predicted_trajectory[:, 0], predicted_trajectory[:, 1],\"-g\")\n",
    "                plt.plot(x[0], x[1],\"xr\")\n",
    "                plt.plot(goal_x, goal_y, \"xb\")\n",
    "                #plt.plot(previous[:, 0], previous[:, 1], \"Dg\")\n",
    "                plt.plot(ob[:, 0], ob[:, 1], \"ok\")\n",
    "                plt.plot(final_trajectory[:, 0], final_trajectory[:, 1],\"-r\")\n",
    "                plot_robot(x[0], x[1], x[2], config)\n",
    "                plot_arrow(x[0], x[1], x[2])\n",
    "                plt.axis(\"equal\")\n",
    "                plt.grid(True)\n",
    "                plt.xlabel('Degrees of Longitude')\n",
    "                plt.ylabel('Degrees of Latitude')\n",
    "                plt.savefig('Pictures/plot_{}'.format(num))\n",
    "                \n",
    "                plt.pause(1)\n",
    "                \n",
    "            # check reaching goal\n",
    "            dist_to_goal = math.hypot(x[0] - goal[0], x[1] - goal[1])\n",
    "            names.append(Image.open('/kaggle/working/Pictures/plot_{}.png'.format(num)))\n",
    "            \n",
    "            num+=1\n",
    "            if dist_to_goal <= config.robot_radius:\n",
    "                PHB_yield+=predict_PHB_yield(tco2[x_lis.index(goal[0])])\n",
    "                print(f\"Target Reached!!\\n{PHB_yield} kg of PHB produced over the course of the trip\")\n",
    "                initial=goal\n",
    "                break\n",
    "\n",
    "    print(\"Done\")\n",
    "    \n",
    "    plt.show()"
   ]
  },
  {
   "cell_type": "code",
   "execution_count": null,
   "metadata": {},
   "outputs": [],
   "source": [
    "if __name__ == '__main__':\n",
    "    main([randint(\n",
    "        math.floor(np.amin(unused[label==set], axis=0)[0]), \n",
    "        math.ceil(np.amax(unused[label==set], axis=0)[0])), randint(\n",
    "        math.floor(np.amin(unused[label==set], axis=0)[1]),\n",
    "        math.ceil(np.amax(unused[label==set], axis=0)[1]))],unused[label==0, 0],unused[label==0, 1],1, robot_type=RobotType.circle)"
   ]
  },
  {
   "cell_type": "code",
   "execution_count": null,
   "metadata": {},
   "outputs": [],
   "source": [
    "names[0].save('output.gif', save_all=True, append_images=names)"
   ]
  },
  {
   "cell_type": "code",
   "execution_count": null,
   "metadata": {},
   "outputs": [],
   "source": [
    "gif_original = 'output.gif'\n",
    "gif_speed_up = 'out.gif'\n",
    "\n",
    "gif = imageio.mimread(gif_original, memtest=False)\n",
    "\n",
    "imageio.mimsave(gif_speed_up, gif, fps=1200)"
   ]
  },
  {
   "cell_type": "code",
   "execution_count": null,
   "metadata": {},
   "outputs": [],
   "source": [
    "#Cleanup\n",
    "for directory,_,filenames in os.walk(path):\n",
    "    for filename in filenames:\n",
    "        os.remove(os.path.join(path,filename))\n",
    "os.rmdir(path)\n",
    "os.remove('output.gif')"
   ]
  },
  {
   "cell_type": "code",
   "execution_count": null,
   "metadata": {},
   "outputs": [],
   "source": [
    "HTML('<img src=\"./out.gif\" />')"
   ]
  }
 ],
 "metadata": {
  "kernelspec": {
   "display_name": "Python 3",
   "language": "python",
   "name": "python3"
  },
  "language_info": {
   "codemirror_mode": {
    "name": "ipython",
    "version": 3
   },
   "file_extension": ".py",
   "mimetype": "text/x-python",
   "name": "python",
   "nbconvert_exporter": "python",
   "pygments_lexer": "ipython3",
   "version": "3.11.1"
  }
 },
 "nbformat": 4,
 "nbformat_minor": 2
}
